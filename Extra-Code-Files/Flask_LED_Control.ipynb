{
 "cells": [
  {
   "cell_type": "code",
   "execution_count": 1,
   "metadata": {},
   "outputs": [],
   "source": [
    "# Import Dependencies\n",
    "from flask import Flask, render_template, request\n",
    "import serial\n",
    "import time\n",
    "import threading"
   ]
  },
  {
   "cell_type": "code",
   "execution_count": 2,
   "metadata": {},
   "outputs": [],
   "source": [
    "# Mimic Inital BPM\n",
    "initial_bpm = 80\n",
    "start_pressed = False"
   ]
  },
  {
   "cell_type": "code",
   "execution_count": 3,
   "metadata": {},
   "outputs": [],
   "source": [
    "# Function to Read BPM over Serial\n",
    "def serial_read():\n",
    "    #threading.Timer(5.0, serial_read).start()\n",
    "    print('Reading BPM from Arduino over Serial. . .')\n",
    "    bpm = str(initial_bpm + 2) + ' BPM'\n",
    "    return bpm"
   ]
  },
  {
   "cell_type": "code",
   "execution_count": 4,
   "metadata": {},
   "outputs": [
    {
     "name": "stderr",
     "output_type": "stream",
     "text": [
      " * Running on http://127.0.0.1:5000/ (Press CTRL+C to quit)\n",
      "127.0.0.1 - - [29/Sep/2018 16:42:13] \"\u001b[37mGET / HTTP/1.1\u001b[0m\" 200 -\n",
      "127.0.0.1 - - [29/Sep/2018 16:42:18] \"\u001b[37mPOST / HTTP/1.1\u001b[0m\" 200 -\n"
     ]
    },
    {
     "name": "stdout",
     "output_type": "stream",
     "text": [
      "User Name Entered: Anuj Dutt\n"
     ]
    }
   ],
   "source": [
    "app = Flask(__name__, template_folder='templates')\n",
    "\n",
    "@app.route('/')\n",
    "def hello():\n",
    "    return render_template('main.html', beats_per_minute= '82 BPM')\n",
    "\n",
    "\n",
    "@app.route('/', methods=['GET','POST'])\n",
    "def button():\n",
    "    # Open Serial Port for Arduino\n",
    "    #s = serial.Serial('COM4', 9600)\n",
    "    \n",
    "    # Format ( request.form[name] == value )\n",
    "    if (request.method == 'POST'):\n",
    "        if (request.form['button'] == 'user_name_submit'):\n",
    "            user_name = request.form['user_name']\n",
    "            print('User Name Entered: {}'.format(user_name))\n",
    "        elif (request.form['button'] == 'start'):\n",
    "            print(\"Starting Data Read over Serial. . .\")\n",
    "\n",
    "        elif (request.form['button'] == 'stop'):\n",
    "            print('Stopping Data Read over Serial. . .')\n",
    "    elif (request.method == 'GET'):\n",
    "        return render_template('main.html', form=form)\n",
    "    \n",
    "    return render_template('main.html', beats_per_minute= '82 BPM')\n",
    "\n",
    "# Main Function\n",
    "if __name__ == '__main__':\n",
    "    app.run()"
   ]
  },
  {
   "cell_type": "code",
   "execution_count": null,
   "metadata": {},
   "outputs": [],
   "source": []
  },
  {
   "cell_type": "code",
   "execution_count": null,
   "metadata": {},
   "outputs": [],
   "source": [
    "# Arduino_serial = serial.Serial(\"COM4\", 9600)\n",
    "\n",
    "# while(True):\n",
    "#     my_data = Arduino_serial.readline().strip()\n",
    "#     print(my_data.decode())"
   ]
  },
  {
   "cell_type": "code",
   "execution_count": null,
   "metadata": {},
   "outputs": [],
   "source": []
  }
 ],
 "metadata": {
  "kernelspec": {
   "display_name": "Python 3",
   "language": "python",
   "name": "python3"
  },
  "language_info": {
   "codemirror_mode": {
    "name": "ipython",
    "version": 3
   },
   "file_extension": ".py",
   "mimetype": "text/x-python",
   "name": "python",
   "nbconvert_exporter": "python",
   "pygments_lexer": "ipython3",
   "version": "3.6.5"
  }
 },
 "nbformat": 4,
 "nbformat_minor": 2
}
