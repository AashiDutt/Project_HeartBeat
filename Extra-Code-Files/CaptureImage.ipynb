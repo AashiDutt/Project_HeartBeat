{
 "cells": [
  {
   "cell_type": "code",
   "execution_count": 1,
   "metadata": {},
   "outputs": [],
   "source": [
    "import cv2\n",
    "import matplotlib.pyplot as plt\n",
    "%matplotlib inline"
   ]
  },
  {
   "cell_type": "code",
   "execution_count": 20,
   "metadata": {},
   "outputs": [
    {
     "name": "stdout",
     "output_type": "stream",
     "text": [
      "user_name.png written!\n",
      "Escape Hit, Closing Session...\n"
     ]
    }
   ],
   "source": [
    "cam = cv2.VideoCapture(0)\n",
    "\n",
    "# font                   = cv2.FONT_HERSHEY_SIMPLEX\n",
    "# bottomLeftCornerOfText = (130,20)\n",
    "# fontScale              = 0.5\n",
    "# fontColor              = (0,0,0)\n",
    "# lineType               = 2\n",
    "\n",
    "while True:\n",
    "    ret, frame = cam.read()\n",
    "    #cv2.putText(frame,'USE: Space to Capture Image, Esc to Exit', bottomLeftCornerOfText, font, fontScale,fontColor, lineType)\n",
    "    cv2.imshow(\"CAPTURED IMAGE\", frame)\n",
    "    \n",
    "    if not ret:\n",
    "        break\n",
    "    k = cv2.waitKey(1)\n",
    "\n",
    "    if k%256 == 27:\n",
    "        # ESC pressed\n",
    "        print(\"Escape Hit, Closing Session...\")\n",
    "        break\n",
    "        \n",
    "    elif k%256 == 32:\n",
    "        # SPACE pressed\n",
    "        img_name = \"user_name.png\"\n",
    "        cv2.imwrite(img_name, frame)\n",
    "        \n",
    "        print(\"{} written!\".format(img_name))\n",
    "\n",
    "cam.release()\n",
    "cv2.destroyAllWindows()"
   ]
  },
  {
   "cell_type": "code",
   "execution_count": null,
   "metadata": {},
   "outputs": [],
   "source": []
  },
  {
   "cell_type": "code",
   "execution_count": 2,
   "metadata": {},
   "outputs": [
    {
     "data": {
      "text/plain": [
       "True"
      ]
     },
     "execution_count": 2,
     "metadata": {},
     "output_type": "execute_result"
    }
   ],
   "source": [
    "import cv2\n",
    "img = cv2.imread(\"anuj_dutt_heartRate.png\")\n",
    "crop_img = img[145:1297, 180:2740]\n",
    "#cv2.imshow(\"cropped\", crop_img)\n",
    "cv2.imwrite('user_cropped_image.png', crop_img)\n",
    "#cv2.waitKey(0)"
   ]
  },
  {
   "cell_type": "code",
   "execution_count": null,
   "metadata": {},
   "outputs": [],
   "source": []
  }
 ],
 "metadata": {
  "kernelspec": {
   "display_name": "Python 3",
   "language": "python",
   "name": "python3"
  },
  "language_info": {
   "codemirror_mode": {
    "name": "ipython",
    "version": 3
   },
   "file_extension": ".py",
   "mimetype": "text/x-python",
   "name": "python",
   "nbconvert_exporter": "python",
   "pygments_lexer": "ipython3",
   "version": "3.6.5"
  }
 },
 "nbformat": 4,
 "nbformat_minor": 2
}
