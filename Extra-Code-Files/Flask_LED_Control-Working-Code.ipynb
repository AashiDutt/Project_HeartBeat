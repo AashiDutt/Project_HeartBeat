{
 "cells": [
  {
   "cell_type": "code",
   "execution_count": 1,
   "metadata": {},
   "outputs": [],
   "source": [
    "# Import Dependencies\n",
    "from flask import Flask, render_template, request, render_template_string, jsonify\n",
    "import serial\n",
    "from datetime import datetime\n",
    "import numpy as np\n",
    "import pandas as pd\n",
    "import time\n",
    "import threading"
   ]
  },
  {
   "cell_type": "code",
   "execution_count": 2,
   "metadata": {},
   "outputs": [],
   "source": [
    "# Mimic Inital BPM\n",
    "initial_bpm = 80\n",
    "start_pressed = False\n",
    "i = 1\n",
    "bpm = 0\n",
    "user_bpm_data = []\n",
    "user_bpm_time = []\n",
    "user_heart_beat_data = []"
   ]
  },
  {
   "cell_type": "code",
   "execution_count": 3,
   "metadata": {},
   "outputs": [],
   "source": [
    "# Function to Read BPM over Serial\n",
    "def serial_data_read():\n",
    "    global i\n",
    "    global initial_bpm\n",
    "    global bpm\n",
    "    global user_bpm_data\n",
    "    \n",
    "    print('serial_data_read executed...')\n",
    "    #bpm = str(initial_bpm + 2) + ' BPM'\n",
    "    \n",
    "    if (bpm < 120):\n",
    "        bpm = initial_bpm + i\n",
    "        user_bpm_data.append(bpm)\n",
    "        user_bpm_time.append(str(datetime.time(datetime.now()))[:-4])\n",
    "    return bpm"
   ]
  },
  {
   "cell_type": "code",
   "execution_count": 4,
   "metadata": {},
   "outputs": [],
   "source": [
    "# Read Serial Data from Arduino\n",
    "# def serial_data_read():\n",
    "#     # Open Serial COM Port\n",
    "#     Arduino_serial = serial.Serial(\"COM4\", 9600)\n",
    "#     # Read Data from Serial COM Port\n",
    "#     ser_data = Arduino_serial.readline().strip()\n",
    "#     return ser_data\n",
    "\n",
    "# # Write to Arduino to control Read/Write State\n",
    "# def serial_data_write(data=None):\n",
    "#     # Open Serial COM Port\n",
    "# #     if (serial.Serial(\"COM4\", 9600).isOpen == False):\n",
    "# #         Arduino_serial = serial.Serial(\"COM4\", 9600)\n",
    "#     while(True):\n",
    "#         # Send Data to Arduino '1': Start; '0': Stop\n",
    "#         Arduino_serial.write(data.encode())\n",
    "#         # 2 second delay\n",
    "#         time.sleep(2)\n",
    "#         ser_data = Arduino_serial.readline().strip()\n",
    "#         print(ser_data.decode())\n",
    "#         return '85 BPM'\n",
    "#     return 'Problem opening COM Port. . .'"
   ]
  },
  {
   "cell_type": "code",
   "execution_count": 5,
   "metadata": {
    "scrolled": false
   },
   "outputs": [
    {
     "name": "stderr",
     "output_type": "stream",
     "text": [
      " * Running on http://127.0.0.1:5000/ (Press CTRL+C to quit)\n",
      "127.0.0.1 - - [29/Sep/2018 13:46:55] \"\u001b[37mGET / HTTP/1.1\u001b[0m\" 200 -\n",
      "127.0.0.1 - - [29/Sep/2018 13:47:01] \"\u001b[37mGET / HTTP/1.1\u001b[0m\" 200 -\n",
      "127.0.0.1 - - [29/Sep/2018 13:47:04] \"\u001b[37mPOST / HTTP/1.1\u001b[0m\" 200 -\n"
     ]
    },
    {
     "name": "stdout",
     "output_type": "stream",
     "text": [
      "Button Function...\n",
      "Reading BPM from Arduino over Serial. . .\n",
      "serial_data_read executed...\n",
      "New BPM:  81 BPM\n",
      "Executing Function...\n"
     ]
    },
    {
     "name": "stderr",
     "output_type": "stream",
     "text": [
      "127.0.0.1 - - [29/Sep/2018 13:47:10] \"\u001b[37mPOST / HTTP/1.1\u001b[0m\" 200 -\n"
     ]
    },
    {
     "name": "stdout",
     "output_type": "stream",
     "text": [
      "Button Function...\n",
      "Reading BPM from Arduino over Serial. . .\n",
      "serial_data_read executed...\n",
      "New BPM:  82 BPM\n",
      "Executing Function...\n"
     ]
    },
    {
     "name": "stderr",
     "output_type": "stream",
     "text": [
      "127.0.0.1 - - [29/Sep/2018 13:47:15] \"\u001b[37mPOST / HTTP/1.1\u001b[0m\" 200 -\n"
     ]
    },
    {
     "name": "stdout",
     "output_type": "stream",
     "text": [
      "Button Function...\n",
      "Reading BPM from Arduino over Serial. . .\n",
      "serial_data_read executed...\n",
      "New BPM:  83 BPM\n",
      "Executing Function...\n"
     ]
    },
    {
     "name": "stderr",
     "output_type": "stream",
     "text": [
      "127.0.0.1 - - [29/Sep/2018 13:47:20] \"\u001b[37mPOST / HTTP/1.1\u001b[0m\" 200 -\n"
     ]
    },
    {
     "name": "stdout",
     "output_type": "stream",
     "text": [
      "Button Function...\n",
      "Reading BPM from Arduino over Serial. . .\n",
      "serial_data_read executed...\n",
      "New BPM:  84 BPM\n",
      "Executing Function...\n"
     ]
    },
    {
     "name": "stderr",
     "output_type": "stream",
     "text": [
      "127.0.0.1 - - [29/Sep/2018 13:47:26] \"\u001b[37mPOST / HTTP/1.1\u001b[0m\" 200 -\n"
     ]
    },
    {
     "name": "stdout",
     "output_type": "stream",
     "text": [
      "Button Function...\n",
      "Reading BPM from Arduino over Serial. . .\n",
      "serial_data_read executed...\n",
      "New BPM:  85 BPM\n",
      "Executing Function...\n"
     ]
    },
    {
     "name": "stderr",
     "output_type": "stream",
     "text": [
      "127.0.0.1 - - [29/Sep/2018 13:47:31] \"\u001b[37mPOST / HTTP/1.1\u001b[0m\" 200 -\n"
     ]
    },
    {
     "name": "stdout",
     "output_type": "stream",
     "text": [
      "Button Function...\n",
      "Reading BPM from Arduino over Serial. . .\n",
      "serial_data_read executed...\n",
      "New BPM:  86 BPM\n",
      "Executing Function...\n"
     ]
    },
    {
     "name": "stderr",
     "output_type": "stream",
     "text": [
      "127.0.0.1 - - [29/Sep/2018 13:47:37] \"\u001b[37mPOST / HTTP/1.1\u001b[0m\" 200 -\n"
     ]
    },
    {
     "name": "stdout",
     "output_type": "stream",
     "text": [
      "Button Function...\n",
      "Reading BPM from Arduino over Serial. . .\n",
      "serial_data_read executed...\n",
      "New BPM:  87 BPM\n",
      "Executing Function...\n"
     ]
    },
    {
     "name": "stderr",
     "output_type": "stream",
     "text": [
      "127.0.0.1 - - [29/Sep/2018 13:47:42] \"\u001b[37mPOST / HTTP/1.1\u001b[0m\" 200 -\n"
     ]
    },
    {
     "name": "stdout",
     "output_type": "stream",
     "text": [
      "Button Function...\n",
      "Reading BPM from Arduino over Serial. . .\n",
      "serial_data_read executed...\n",
      "New BPM:  88 BPM\n",
      "Executing Function...\n"
     ]
    },
    {
     "name": "stderr",
     "output_type": "stream",
     "text": [
      "127.0.0.1 - - [29/Sep/2018 13:47:48] \"\u001b[37mPOST / HTTP/1.1\u001b[0m\" 200 -\n"
     ]
    },
    {
     "name": "stdout",
     "output_type": "stream",
     "text": [
      "Button Function...\n",
      "Reading BPM from Arduino over Serial. . .\n",
      "serial_data_read executed...\n",
      "New BPM:  89 BPM\n",
      "Executing Function...\n"
     ]
    },
    {
     "name": "stderr",
     "output_type": "stream",
     "text": [
      "127.0.0.1 - - [29/Sep/2018 13:47:53] \"\u001b[37mPOST / HTTP/1.1\u001b[0m\" 200 -\n"
     ]
    },
    {
     "name": "stdout",
     "output_type": "stream",
     "text": [
      "Button Function...\n",
      "Reading BPM from Arduino over Serial. . .\n",
      "serial_data_read executed...\n",
      "New BPM:  90 BPM\n",
      "Executing Function...\n"
     ]
    },
    {
     "name": "stderr",
     "output_type": "stream",
     "text": [
      "127.0.0.1 - - [29/Sep/2018 13:47:59] \"\u001b[37mPOST / HTTP/1.1\u001b[0m\" 200 -\n"
     ]
    },
    {
     "name": "stdout",
     "output_type": "stream",
     "text": [
      "Button Function...\n",
      "Stopping Data Read over Serial. . .\n",
      "Saved user data as Anuj.csv.csv.\n"
     ]
    },
    {
     "name": "stderr",
     "output_type": "stream",
     "text": [
      "127.0.0.1 - - [29/Sep/2018 13:48:05] \"\u001b[37mPOST / HTTP/1.1\u001b[0m\" 200 -\n"
     ]
    },
    {
     "name": "stdout",
     "output_type": "stream",
     "text": [
      "Button Function...\n",
      "Stopping Data Read over Serial. . .\n",
      "Saved user data as Anuj.csv.csv.\n"
     ]
    }
   ],
   "source": [
    "app = Flask(__name__, template_folder='templates')\n",
    "\n",
    "\n",
    "@app.route('/')\n",
    "def index():\n",
    "    return render_template('main.html', beats_per_minute= initial_bpm)\n",
    "\n",
    "\n",
    "# Function to Save User Data to CSV File\n",
    "def writeBPMData(fileName=None):\n",
    "    # Convert Array of values to dataframe\n",
    "    df = pd.DataFrame({'BPM':np.asarray(user_bpm_data), 'Time':user_bpm_time})\n",
    "    df.to_csv(fileName, index=False)\n",
    "    print('Saved user data as {}.csv.'.format(fileName))\n",
    "\n",
    "\n",
    "def plotHeartBeat():\n",
    "    plt.figure(figsize=(20,10))\n",
    "    plt.title('Heart Beat')\n",
    "    plt.plot(np.asarray(user_heart_beat_data), label='heart_beat')\n",
    "    plt.legend()\n",
    "    plt.show()\n",
    "    \n",
    "\n",
    "# Function to Write data to CSV file and Plot in Real Time\n",
    "def save_and_plot(fileName=None):\n",
    "    # Open Serial COM Port\n",
    "    Arduino_serial = serial.Serial(\"COM4\", 9600)\n",
    "\n",
    "    with open(fileName,'w') as f:\n",
    "    while (True):\n",
    "        ser_data = Arduino_serial.readline().strip()\n",
    "        if (int(ser_data.decode()) > threshold):\n",
    "            print(ser_data.decode())\n",
    "            f.write(ser_data.decode())\n",
    "            f.write('\\n')\n",
    "    \n",
    "    \n",
    "@app.route('/', methods=['GET','POST'])\n",
    "def data():\n",
    "    print('Button Function...')\n",
    "    # Variable to hold BPM Values\n",
    "    bpm = 0\n",
    "    text = ' '\n",
    "    ser_start = False\n",
    "    usr_name= 'Anuj'\n",
    "    threshold = 550\n",
    "    \n",
    "    \n",
    "    # Format ( request.form[name] == value )\n",
    "    if (request.method == 'POST'):\n",
    "        # Get User Name and Gender for Generating Report\n",
    "        if (request.form['button'] == 'user_name_submit'):\n",
    "            usr_name = request.form['user_name']\n",
    "            name = usr_name.split(',')[0]\n",
    "            usr_gender = usr_name.split(',')[1]\n",
    "            print('User Name: {0}\\t User Gender: {1}'.format(usr_name, usr_gender))\n",
    "        \n",
    "        # Start Recording Data in CSV File and Plot Data in Real Time\n",
    "        elif (request.form['button'] == 'start'):\n",
    "            # Function to Start Reading the data\n",
    "            def serial_read():\n",
    "                #global i\n",
    "                global initial_bpm\n",
    "                print('Reading BPM from Arduino over Serial. . .')\n",
    "                #bpm = initial_bpm + i\n",
    "                bpm = serial_data_read()\n",
    "                initial_bpm = bpm\n",
    "                print(\"New BPM: \",str(bpm) + ' BPM')\n",
    "                return jsonify(beats_per_minute = bpm)\n",
    "            serial_read()\n",
    "            print('Executing Function...')\n",
    "        \n",
    "        elif (request.form['button'] == 'stop'):\n",
    "            print('Stopping Data Read over Serial. . .')\n",
    "            # Write '0' to Arduino to Stop Reading Data; Arduino Stop Writing Data\n",
    "            #bpm = serial_write(data='0')\n",
    "            writeData(fileName=usr_name+'.csv')\n",
    "            bpm = 0\n",
    "            return render_template('main.html', beats_per_minute= bpm)\n",
    "        \n",
    "        elif (request.form['button'] == 'showPlot'):\n",
    "            ser_data = Arduino_serial.readline().strip()\n",
    "            \n",
    "            if (ser_data > threshold):\n",
    "                user_heart_beat_data.append(ser_data.decode())\n",
    "    \n",
    "        \n",
    "    elif (request.method == 'GET'):\n",
    "        return render_template('main.html',  beats_per_minute= bpm)\n",
    "    \n",
    "    #print('End of Function...')\n",
    "    #print(bpm, initial_bpm)\n",
    "    return render_template('main.html', beats_per_minute= initial_bpm)\n",
    "\n",
    "\n",
    "# Main Function\n",
    "if __name__ == '__main__':\n",
    "    app.run()"
   ]
  },
  {
   "cell_type": "code",
   "execution_count": null,
   "metadata": {},
   "outputs": [],
   "source": []
  }
 ],
 "metadata": {
  "kernelspec": {
   "display_name": "Python 3",
   "language": "python",
   "name": "python3"
  },
  "language_info": {
   "codemirror_mode": {
    "name": "ipython",
    "version": 3
   },
   "file_extension": ".py",
   "mimetype": "text/x-python",
   "name": "python",
   "nbconvert_exporter": "python",
   "pygments_lexer": "ipython3",
   "version": "3.6.5"
  }
 },
 "nbformat": 4,
 "nbformat_minor": 2
}
