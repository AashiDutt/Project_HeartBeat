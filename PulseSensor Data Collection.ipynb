{
 "cells": [
  {
   "cell_type": "code",
   "execution_count": null,
   "metadata": {},
   "outputs": [],
   "source": [
    "import serial\n",
    "from datetime import datetime\n",
    "import numpy as np\n",
    "import pandas as pd\n",
    "import time\n",
    "import threading"
   ]
  },
  {
   "cell_type": "code",
   "execution_count": null,
   "metadata": {},
   "outputs": [],
   "source": [
    "# Read Serial Data from Arduino\n",
    "def serial_data_read():\n",
    "    # Open Serial COM Port\n",
    "    Arduino_serial = serial.Serial(\"COM4\", 9600)\n",
    "    # Read Data from Serial COM Port\n",
    "    ser_data = Arduino_serial.readline().strip()\n",
    "    return ser_data"
   ]
  },
  {
   "cell_type": "code",
   "execution_count": null,
   "metadata": {},
   "outputs": [],
   "source": [
    "# Open Serial COM Port\n",
    "Arduino_serial = serial.Serial(\"COM4\", 9600)"
   ]
  },
  {
   "cell_type": "code",
   "execution_count": null,
   "metadata": {
    "scrolled": true
   },
   "outputs": [],
   "source": [
    "# Read Data from Serial COM Port(\n",
    "import pandas as pd\n",
    "import numpy as np\n",
    "\n",
    "hrt_data = []\n",
    "threshold = 550\n",
    "\n",
    "x = 0\n",
    "\n",
    "while(x < 2000):\n",
    "    x += 1\n",
    "    ser_data = Arduino_serial.readline().strip()\n",
    "    if (int(ser_data.decode()) > threshold):\n",
    "        hrt_data.append(ser_data.decode())"
   ]
  },
  {
   "cell_type": "code",
   "execution_count": null,
   "metadata": {},
   "outputs": [],
   "source": [
    "df = pd.DataFrame(np.asarray(hrt_data))\n",
    "df.columns = ['Heart_Rate']\n",
    "df.head()"
   ]
  },
  {
   "cell_type": "code",
   "execution_count": null,
   "metadata": {},
   "outputs": [],
   "source": [
    "# Read Data from Serial COM Port(\n",
    "import matplotlib.pyplot as plt\n",
    "import matplotlib.animation as animation\n",
    "from matplotlib import style\n",
    "style.use('ggplot')\n",
    "%matplotlib inline\n",
    "\n",
    "plt.figure(figsize=(20,10))\n",
    "\n",
    "\n",
    "def animate(i):\n",
    "    \n",
    "\n",
    "while(True):\n",
    "    #threshold = b'500\n",
    "    ser_data = Arduino_serial.readline().strip()\n",
    "    ser_data.decode()"
   ]
  },
  {
   "cell_type": "code",
   "execution_count": null,
   "metadata": {},
   "outputs": [],
   "source": []
  }
 ],
 "metadata": {
  "kernelspec": {
   "display_name": "Python 3",
   "language": "python",
   "name": "python3"
  },
  "language_info": {
   "codemirror_mode": {
    "name": "ipython",
    "version": 3
   },
   "file_extension": ".py",
   "mimetype": "text/x-python",
   "name": "python",
   "nbconvert_exporter": "python",
   "pygments_lexer": "ipython3",
   "version": "3.6.5"
  }
 },
 "nbformat": 4,
 "nbformat_minor": 2
}
